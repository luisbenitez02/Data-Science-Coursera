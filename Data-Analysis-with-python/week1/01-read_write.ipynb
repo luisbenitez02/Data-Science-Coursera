{
 "nbformat": 4,
 "nbformat_minor": 2,
 "metadata": {
  "language_info": {
   "name": "python",
   "codemirror_mode": {
    "name": "ipython",
    "version": 3
   },
   "version": "3.7.6-final"
  },
  "orig_nbformat": 2,
  "file_extension": ".py",
  "mimetype": "text/x-python",
  "name": "python",
  "npconvert_exporter": "python",
  "pygments_lexer": "ipython3",
  "version": 3,
  "kernelspec": {
   "name": "python37664bitbaseconda4164a0aa503e483ea0051d909fa7b920",
   "display_name": "Python 3.7.6 64-bit ('base': conda)"
  }
 },
 "cells": [
  {
   "cell_type": "markdown",
   "metadata": {},
   "source": [
    "# Read and write dataset "
   ]
  },
  {
   "cell_type": "code",
   "execution_count": 7,
   "metadata": {},
   "outputs": [],
   "source": [
    "import pandas as pd\n",
    "path = 'https://archive.ics.uci.edu/ml/machine-learning-databases/autos/imports-85.data'\n",
    "\n",
    ""
   ]
  },
  {
   "cell_type": "code",
   "execution_count": 8,
   "metadata": {},
   "outputs": [
    {
     "output_type": "execute_result",
     "data": {
      "text/plain": "   0    1            2    3    4     5            6    7      8     9   ...  \\\n0   3    ?  alfa-romero  gas  std   two  convertible  rwd  front  88.6  ...   \n1   3    ?  alfa-romero  gas  std   two  convertible  rwd  front  88.6  ...   \n2   1    ?  alfa-romero  gas  std   two    hatchback  rwd  front  94.5  ...   \n3   2  164         audi  gas  std  four        sedan  fwd  front  99.8  ...   \n4   2  164         audi  gas  std  four        sedan  4wd  front  99.4  ...   \n\n    16    17    18    19    20   21    22  23  24     25  \n0  130  mpfi  3.47  2.68   9.0  111  5000  21  27  13495  \n1  130  mpfi  3.47  2.68   9.0  111  5000  21  27  16500  \n2  152  mpfi  2.68  3.47   9.0  154  5000  19  26  16500  \n3  109  mpfi  3.19  3.40  10.0  102  5500  24  30  13950  \n4  136  mpfi  3.19  3.40   8.0  115  5500  18  22  17450  \n\n[5 rows x 26 columns]",
      "text/html": "<div>\n<style scoped>\n    .dataframe tbody tr th:only-of-type {\n        vertical-align: middle;\n    }\n\n    .dataframe tbody tr th {\n        vertical-align: top;\n    }\n\n    .dataframe thead th {\n        text-align: right;\n    }\n</style>\n<table border=\"1\" class=\"dataframe\">\n  <thead>\n    <tr style=\"text-align: right;\">\n      <th></th>\n      <th>0</th>\n      <th>1</th>\n      <th>2</th>\n      <th>3</th>\n      <th>4</th>\n      <th>5</th>\n      <th>6</th>\n      <th>7</th>\n      <th>8</th>\n      <th>9</th>\n      <th>...</th>\n      <th>16</th>\n      <th>17</th>\n      <th>18</th>\n      <th>19</th>\n      <th>20</th>\n      <th>21</th>\n      <th>22</th>\n      <th>23</th>\n      <th>24</th>\n      <th>25</th>\n    </tr>\n  </thead>\n  <tbody>\n    <tr>\n      <th>0</th>\n      <td>3</td>\n      <td>?</td>\n      <td>alfa-romero</td>\n      <td>gas</td>\n      <td>std</td>\n      <td>two</td>\n      <td>convertible</td>\n      <td>rwd</td>\n      <td>front</td>\n      <td>88.6</td>\n      <td>...</td>\n      <td>130</td>\n      <td>mpfi</td>\n      <td>3.47</td>\n      <td>2.68</td>\n      <td>9.0</td>\n      <td>111</td>\n      <td>5000</td>\n      <td>21</td>\n      <td>27</td>\n      <td>13495</td>\n    </tr>\n    <tr>\n      <th>1</th>\n      <td>3</td>\n      <td>?</td>\n      <td>alfa-romero</td>\n      <td>gas</td>\n      <td>std</td>\n      <td>two</td>\n      <td>convertible</td>\n      <td>rwd</td>\n      <td>front</td>\n      <td>88.6</td>\n      <td>...</td>\n      <td>130</td>\n      <td>mpfi</td>\n      <td>3.47</td>\n      <td>2.68</td>\n      <td>9.0</td>\n      <td>111</td>\n      <td>5000</td>\n      <td>21</td>\n      <td>27</td>\n      <td>16500</td>\n    </tr>\n    <tr>\n      <th>2</th>\n      <td>1</td>\n      <td>?</td>\n      <td>alfa-romero</td>\n      <td>gas</td>\n      <td>std</td>\n      <td>two</td>\n      <td>hatchback</td>\n      <td>rwd</td>\n      <td>front</td>\n      <td>94.5</td>\n      <td>...</td>\n      <td>152</td>\n      <td>mpfi</td>\n      <td>2.68</td>\n      <td>3.47</td>\n      <td>9.0</td>\n      <td>154</td>\n      <td>5000</td>\n      <td>19</td>\n      <td>26</td>\n      <td>16500</td>\n    </tr>\n    <tr>\n      <th>3</th>\n      <td>2</td>\n      <td>164</td>\n      <td>audi</td>\n      <td>gas</td>\n      <td>std</td>\n      <td>four</td>\n      <td>sedan</td>\n      <td>fwd</td>\n      <td>front</td>\n      <td>99.8</td>\n      <td>...</td>\n      <td>109</td>\n      <td>mpfi</td>\n      <td>3.19</td>\n      <td>3.40</td>\n      <td>10.0</td>\n      <td>102</td>\n      <td>5500</td>\n      <td>24</td>\n      <td>30</td>\n      <td>13950</td>\n    </tr>\n    <tr>\n      <th>4</th>\n      <td>2</td>\n      <td>164</td>\n      <td>audi</td>\n      <td>gas</td>\n      <td>std</td>\n      <td>four</td>\n      <td>sedan</td>\n      <td>4wd</td>\n      <td>front</td>\n      <td>99.4</td>\n      <td>...</td>\n      <td>136</td>\n      <td>mpfi</td>\n      <td>3.19</td>\n      <td>3.40</td>\n      <td>8.0</td>\n      <td>115</td>\n      <td>5500</td>\n      <td>18</td>\n      <td>22</td>\n      <td>17450</td>\n    </tr>\n  </tbody>\n</table>\n<p>5 rows × 26 columns</p>\n</div>"
     },
     "metadata": {},
     "execution_count": 8
    }
   ],
   "source": [
    "df = pd.read_csv(path,header=None)\n",
    "df.head()"
   ]
  },
  {
   "cell_type": "markdown",
   "metadata": {},
   "source": [
    "El anterior dataset no tiene header pero podemos colocarle unos de forma manual"
   ]
  },
  {
   "cell_type": "code",
   "execution_count": 9,
   "metadata": {},
   "outputs": [],
   "source": [
    "headers = ['symboling','normalized-losses','make','fuel-type','aspiration','num-of-doors','body-style','drive-wheels','engine-location','wheel-base','length',\n",
    "'with','height','curb-weight','engine-type','num-of-cylinders','engine-size','fuel-system','bore','stroke','compression-ration','horsepower','peak-rpm','city-mpg', 'higway-mpg','price']\n",
    "\n",
    "df.columns = headers"
   ]
  },
  {
   "cell_type": "code",
   "execution_count": 10,
   "metadata": {},
   "outputs": [
    {
     "output_type": "execute_result",
     "data": {
      "text/plain": "   symboling normalized-losses         make fuel-type aspiration num-of-doors  \\\n0          3                 ?  alfa-romero       gas        std          two   \n1          3                 ?  alfa-romero       gas        std          two   \n2          1                 ?  alfa-romero       gas        std          two   \n3          2               164         audi       gas        std         four   \n4          2               164         audi       gas        std         four   \n\n    body-style drive-wheels engine-location  wheel-base  ...  engine-size  \\\n0  convertible          rwd           front        88.6  ...          130   \n1  convertible          rwd           front        88.6  ...          130   \n2    hatchback          rwd           front        94.5  ...          152   \n3        sedan          fwd           front        99.8  ...          109   \n4        sedan          4wd           front        99.4  ...          136   \n\n   fuel-system  bore  stroke compression-ration horsepower  peak-rpm city-mpg  \\\n0         mpfi  3.47    2.68                9.0        111      5000       21   \n1         mpfi  3.47    2.68                9.0        111      5000       21   \n2         mpfi  2.68    3.47                9.0        154      5000       19   \n3         mpfi  3.19    3.40               10.0        102      5500       24   \n4         mpfi  3.19    3.40                8.0        115      5500       18   \n\n  higway-mpg  price  \n0         27  13495  \n1         27  16500  \n2         26  16500  \n3         30  13950  \n4         22  17450  \n\n[5 rows x 26 columns]",
      "text/html": "<div>\n<style scoped>\n    .dataframe tbody tr th:only-of-type {\n        vertical-align: middle;\n    }\n\n    .dataframe tbody tr th {\n        vertical-align: top;\n    }\n\n    .dataframe thead th {\n        text-align: right;\n    }\n</style>\n<table border=\"1\" class=\"dataframe\">\n  <thead>\n    <tr style=\"text-align: right;\">\n      <th></th>\n      <th>symboling</th>\n      <th>normalized-losses</th>\n      <th>make</th>\n      <th>fuel-type</th>\n      <th>aspiration</th>\n      <th>num-of-doors</th>\n      <th>body-style</th>\n      <th>drive-wheels</th>\n      <th>engine-location</th>\n      <th>wheel-base</th>\n      <th>...</th>\n      <th>engine-size</th>\n      <th>fuel-system</th>\n      <th>bore</th>\n      <th>stroke</th>\n      <th>compression-ration</th>\n      <th>horsepower</th>\n      <th>peak-rpm</th>\n      <th>city-mpg</th>\n      <th>higway-mpg</th>\n      <th>price</th>\n    </tr>\n  </thead>\n  <tbody>\n    <tr>\n      <th>0</th>\n      <td>3</td>\n      <td>?</td>\n      <td>alfa-romero</td>\n      <td>gas</td>\n      <td>std</td>\n      <td>two</td>\n      <td>convertible</td>\n      <td>rwd</td>\n      <td>front</td>\n      <td>88.6</td>\n      <td>...</td>\n      <td>130</td>\n      <td>mpfi</td>\n      <td>3.47</td>\n      <td>2.68</td>\n      <td>9.0</td>\n      <td>111</td>\n      <td>5000</td>\n      <td>21</td>\n      <td>27</td>\n      <td>13495</td>\n    </tr>\n    <tr>\n      <th>1</th>\n      <td>3</td>\n      <td>?</td>\n      <td>alfa-romero</td>\n      <td>gas</td>\n      <td>std</td>\n      <td>two</td>\n      <td>convertible</td>\n      <td>rwd</td>\n      <td>front</td>\n      <td>88.6</td>\n      <td>...</td>\n      <td>130</td>\n      <td>mpfi</td>\n      <td>3.47</td>\n      <td>2.68</td>\n      <td>9.0</td>\n      <td>111</td>\n      <td>5000</td>\n      <td>21</td>\n      <td>27</td>\n      <td>16500</td>\n    </tr>\n    <tr>\n      <th>2</th>\n      <td>1</td>\n      <td>?</td>\n      <td>alfa-romero</td>\n      <td>gas</td>\n      <td>std</td>\n      <td>two</td>\n      <td>hatchback</td>\n      <td>rwd</td>\n      <td>front</td>\n      <td>94.5</td>\n      <td>...</td>\n      <td>152</td>\n      <td>mpfi</td>\n      <td>2.68</td>\n      <td>3.47</td>\n      <td>9.0</td>\n      <td>154</td>\n      <td>5000</td>\n      <td>19</td>\n      <td>26</td>\n      <td>16500</td>\n    </tr>\n    <tr>\n      <th>3</th>\n      <td>2</td>\n      <td>164</td>\n      <td>audi</td>\n      <td>gas</td>\n      <td>std</td>\n      <td>four</td>\n      <td>sedan</td>\n      <td>fwd</td>\n      <td>front</td>\n      <td>99.8</td>\n      <td>...</td>\n      <td>109</td>\n      <td>mpfi</td>\n      <td>3.19</td>\n      <td>3.40</td>\n      <td>10.0</td>\n      <td>102</td>\n      <td>5500</td>\n      <td>24</td>\n      <td>30</td>\n      <td>13950</td>\n    </tr>\n    <tr>\n      <th>4</th>\n      <td>2</td>\n      <td>164</td>\n      <td>audi</td>\n      <td>gas</td>\n      <td>std</td>\n      <td>four</td>\n      <td>sedan</td>\n      <td>4wd</td>\n      <td>front</td>\n      <td>99.4</td>\n      <td>...</td>\n      <td>136</td>\n      <td>mpfi</td>\n      <td>3.19</td>\n      <td>3.40</td>\n      <td>8.0</td>\n      <td>115</td>\n      <td>5500</td>\n      <td>18</td>\n      <td>22</td>\n      <td>17450</td>\n    </tr>\n  </tbody>\n</table>\n<p>5 rows × 26 columns</p>\n</div>"
     },
     "metadata": {},
     "execution_count": 10
    }
   ],
   "source": [
    "df.head()"
   ]
  },
  {
   "cell_type": "code",
   "execution_count": 11,
   "metadata": {},
   "outputs": [
    {
     "output_type": "execute_result",
     "data": {
      "text/plain": "symboling               int64\nnormalized-losses      object\nmake                   object\nfuel-type              object\naspiration             object\nnum-of-doors           object\nbody-style             object\ndrive-wheels           object\nengine-location        object\nwheel-base            float64\nlength                float64\nwith                  float64\nheight                float64\ncurb-weight             int64\nengine-type            object\nnum-of-cylinders       object\nengine-size             int64\nfuel-system            object\nbore                   object\nstroke                 object\ncompression-ration    float64\nhorsepower             object\npeak-rpm               object\ncity-mpg                int64\nhigway-mpg              int64\nprice                  object\ndtype: object"
     },
     "metadata": {},
     "execution_count": 11
    }
   ],
   "source": [
    "df.dtypes"
   ]
  },
  {
   "cell_type": "markdown",
   "metadata": {},
   "source": [
    "Recuerda describir el dataset, un paso esencial que quiza no se usa mucho en el analisis de datos de tipo \"string\""
   ]
  },
  {
   "cell_type": "code",
   "execution_count": 13,
   "metadata": {},
   "outputs": [
    {
     "output_type": "execute_result",
     "data": {
      "text/plain": "        symboling  wheel-base      length        with      height  \\\ncount  205.000000  205.000000  205.000000  205.000000  205.000000   \nmean     0.834146   98.756585  174.049268   65.907805   53.724878   \nstd      1.245307    6.021776   12.337289    2.145204    2.443522   \nmin     -2.000000   86.600000  141.100000   60.300000   47.800000   \n25%      0.000000   94.500000  166.300000   64.100000   52.000000   \n50%      1.000000   97.000000  173.200000   65.500000   54.100000   \n75%      2.000000  102.400000  183.100000   66.900000   55.500000   \nmax      3.000000  120.900000  208.100000   72.300000   59.800000   \n\n       curb-weight  engine-size  compression-ration    city-mpg  higway-mpg  \ncount   205.000000   205.000000          205.000000  205.000000  205.000000  \nmean   2555.565854   126.907317           10.142537   25.219512   30.751220  \nstd     520.680204    41.642693            3.972040    6.542142    6.886443  \nmin    1488.000000    61.000000            7.000000   13.000000   16.000000  \n25%    2145.000000    97.000000            8.600000   19.000000   25.000000  \n50%    2414.000000   120.000000            9.000000   24.000000   30.000000  \n75%    2935.000000   141.000000            9.400000   30.000000   34.000000  \nmax    4066.000000   326.000000           23.000000   49.000000   54.000000  ",
      "text/html": "<div>\n<style scoped>\n    .dataframe tbody tr th:only-of-type {\n        vertical-align: middle;\n    }\n\n    .dataframe tbody tr th {\n        vertical-align: top;\n    }\n\n    .dataframe thead th {\n        text-align: right;\n    }\n</style>\n<table border=\"1\" class=\"dataframe\">\n  <thead>\n    <tr style=\"text-align: right;\">\n      <th></th>\n      <th>symboling</th>\n      <th>wheel-base</th>\n      <th>length</th>\n      <th>with</th>\n      <th>height</th>\n      <th>curb-weight</th>\n      <th>engine-size</th>\n      <th>compression-ration</th>\n      <th>city-mpg</th>\n      <th>higway-mpg</th>\n    </tr>\n  </thead>\n  <tbody>\n    <tr>\n      <th>count</th>\n      <td>205.000000</td>\n      <td>205.000000</td>\n      <td>205.000000</td>\n      <td>205.000000</td>\n      <td>205.000000</td>\n      <td>205.000000</td>\n      <td>205.000000</td>\n      <td>205.000000</td>\n      <td>205.000000</td>\n      <td>205.000000</td>\n    </tr>\n    <tr>\n      <th>mean</th>\n      <td>0.834146</td>\n      <td>98.756585</td>\n      <td>174.049268</td>\n      <td>65.907805</td>\n      <td>53.724878</td>\n      <td>2555.565854</td>\n      <td>126.907317</td>\n      <td>10.142537</td>\n      <td>25.219512</td>\n      <td>30.751220</td>\n    </tr>\n    <tr>\n      <th>std</th>\n      <td>1.245307</td>\n      <td>6.021776</td>\n      <td>12.337289</td>\n      <td>2.145204</td>\n      <td>2.443522</td>\n      <td>520.680204</td>\n      <td>41.642693</td>\n      <td>3.972040</td>\n      <td>6.542142</td>\n      <td>6.886443</td>\n    </tr>\n    <tr>\n      <th>min</th>\n      <td>-2.000000</td>\n      <td>86.600000</td>\n      <td>141.100000</td>\n      <td>60.300000</td>\n      <td>47.800000</td>\n      <td>1488.000000</td>\n      <td>61.000000</td>\n      <td>7.000000</td>\n      <td>13.000000</td>\n      <td>16.000000</td>\n    </tr>\n    <tr>\n      <th>25%</th>\n      <td>0.000000</td>\n      <td>94.500000</td>\n      <td>166.300000</td>\n      <td>64.100000</td>\n      <td>52.000000</td>\n      <td>2145.000000</td>\n      <td>97.000000</td>\n      <td>8.600000</td>\n      <td>19.000000</td>\n      <td>25.000000</td>\n    </tr>\n    <tr>\n      <th>50%</th>\n      <td>1.000000</td>\n      <td>97.000000</td>\n      <td>173.200000</td>\n      <td>65.500000</td>\n      <td>54.100000</td>\n      <td>2414.000000</td>\n      <td>120.000000</td>\n      <td>9.000000</td>\n      <td>24.000000</td>\n      <td>30.000000</td>\n    </tr>\n    <tr>\n      <th>75%</th>\n      <td>2.000000</td>\n      <td>102.400000</td>\n      <td>183.100000</td>\n      <td>66.900000</td>\n      <td>55.500000</td>\n      <td>2935.000000</td>\n      <td>141.000000</td>\n      <td>9.400000</td>\n      <td>30.000000</td>\n      <td>34.000000</td>\n    </tr>\n    <tr>\n      <th>max</th>\n      <td>3.000000</td>\n      <td>120.900000</td>\n      <td>208.100000</td>\n      <td>72.300000</td>\n      <td>59.800000</td>\n      <td>4066.000000</td>\n      <td>326.000000</td>\n      <td>23.000000</td>\n      <td>49.000000</td>\n      <td>54.000000</td>\n    </tr>\n  </tbody>\n</table>\n</div>"
     },
     "metadata": {},
     "execution_count": 13
    }
   ],
   "source": [
    "df.describe()"
   ]
  },
  {
   "cell_type": "markdown",
   "metadata": {},
   "source": [
    "De manera predeterminada no se incluyen los datos que no sean de tipo numerico **pero podemos obligarlo a que lo haga**"
   ]
  },
  {
   "cell_type": "code",
   "execution_count": 14,
   "metadata": {},
   "outputs": [
    {
     "output_type": "execute_result",
     "data": {
      "text/plain": "         symboling normalized-losses    make fuel-type aspiration  \\\ncount   205.000000               205     205       205        205   \nunique         NaN                52      22         2          2   \ntop            NaN                 ?  toyota       gas        std   \nfreq           NaN                41      32       185        168   \nmean      0.834146               NaN     NaN       NaN        NaN   \nstd       1.245307               NaN     NaN       NaN        NaN   \nmin      -2.000000               NaN     NaN       NaN        NaN   \n25%       0.000000               NaN     NaN       NaN        NaN   \n50%       1.000000               NaN     NaN       NaN        NaN   \n75%       2.000000               NaN     NaN       NaN        NaN   \nmax       3.000000               NaN     NaN       NaN        NaN   \n\n       num-of-doors body-style drive-wheels engine-location  wheel-base  ...  \\\ncount           205        205          205             205  205.000000  ...   \nunique            3          5            3               2         NaN  ...   \ntop            four      sedan          fwd           front         NaN  ...   \nfreq            114         96          120             202         NaN  ...   \nmean            NaN        NaN          NaN             NaN   98.756585  ...   \nstd             NaN        NaN          NaN             NaN    6.021776  ...   \nmin             NaN        NaN          NaN             NaN   86.600000  ...   \n25%             NaN        NaN          NaN             NaN   94.500000  ...   \n50%             NaN        NaN          NaN             NaN   97.000000  ...   \n75%             NaN        NaN          NaN             NaN  102.400000  ...   \nmax             NaN        NaN          NaN             NaN  120.900000  ...   \n\n        engine-size  fuel-system  bore  stroke compression-ration horsepower  \\\ncount    205.000000          205   205     205         205.000000        205   \nunique          NaN            8    39      37                NaN         60   \ntop             NaN         mpfi  3.62    3.40                NaN         68   \nfreq            NaN           94    23      20                NaN         19   \nmean     126.907317          NaN   NaN     NaN          10.142537        NaN   \nstd       41.642693          NaN   NaN     NaN           3.972040        NaN   \nmin       61.000000          NaN   NaN     NaN           7.000000        NaN   \n25%       97.000000          NaN   NaN     NaN           8.600000        NaN   \n50%      120.000000          NaN   NaN     NaN           9.000000        NaN   \n75%      141.000000          NaN   NaN     NaN           9.400000        NaN   \nmax      326.000000          NaN   NaN     NaN          23.000000        NaN   \n\n        peak-rpm    city-mpg  higway-mpg price  \ncount        205  205.000000  205.000000   205  \nunique        24         NaN         NaN   187  \ntop         5500         NaN         NaN     ?  \nfreq          37         NaN         NaN     4  \nmean         NaN   25.219512   30.751220   NaN  \nstd          NaN    6.542142    6.886443   NaN  \nmin          NaN   13.000000   16.000000   NaN  \n25%          NaN   19.000000   25.000000   NaN  \n50%          NaN   24.000000   30.000000   NaN  \n75%          NaN   30.000000   34.000000   NaN  \nmax          NaN   49.000000   54.000000   NaN  \n\n[11 rows x 26 columns]",
      "text/html": "<div>\n<style scoped>\n    .dataframe tbody tr th:only-of-type {\n        vertical-align: middle;\n    }\n\n    .dataframe tbody tr th {\n        vertical-align: top;\n    }\n\n    .dataframe thead th {\n        text-align: right;\n    }\n</style>\n<table border=\"1\" class=\"dataframe\">\n  <thead>\n    <tr style=\"text-align: right;\">\n      <th></th>\n      <th>symboling</th>\n      <th>normalized-losses</th>\n      <th>make</th>\n      <th>fuel-type</th>\n      <th>aspiration</th>\n      <th>num-of-doors</th>\n      <th>body-style</th>\n      <th>drive-wheels</th>\n      <th>engine-location</th>\n      <th>wheel-base</th>\n      <th>...</th>\n      <th>engine-size</th>\n      <th>fuel-system</th>\n      <th>bore</th>\n      <th>stroke</th>\n      <th>compression-ration</th>\n      <th>horsepower</th>\n      <th>peak-rpm</th>\n      <th>city-mpg</th>\n      <th>higway-mpg</th>\n      <th>price</th>\n    </tr>\n  </thead>\n  <tbody>\n    <tr>\n      <th>count</th>\n      <td>205.000000</td>\n      <td>205</td>\n      <td>205</td>\n      <td>205</td>\n      <td>205</td>\n      <td>205</td>\n      <td>205</td>\n      <td>205</td>\n      <td>205</td>\n      <td>205.000000</td>\n      <td>...</td>\n      <td>205.000000</td>\n      <td>205</td>\n      <td>205</td>\n      <td>205</td>\n      <td>205.000000</td>\n      <td>205</td>\n      <td>205</td>\n      <td>205.000000</td>\n      <td>205.000000</td>\n      <td>205</td>\n    </tr>\n    <tr>\n      <th>unique</th>\n      <td>NaN</td>\n      <td>52</td>\n      <td>22</td>\n      <td>2</td>\n      <td>2</td>\n      <td>3</td>\n      <td>5</td>\n      <td>3</td>\n      <td>2</td>\n      <td>NaN</td>\n      <td>...</td>\n      <td>NaN</td>\n      <td>8</td>\n      <td>39</td>\n      <td>37</td>\n      <td>NaN</td>\n      <td>60</td>\n      <td>24</td>\n      <td>NaN</td>\n      <td>NaN</td>\n      <td>187</td>\n    </tr>\n    <tr>\n      <th>top</th>\n      <td>NaN</td>\n      <td>?</td>\n      <td>toyota</td>\n      <td>gas</td>\n      <td>std</td>\n      <td>four</td>\n      <td>sedan</td>\n      <td>fwd</td>\n      <td>front</td>\n      <td>NaN</td>\n      <td>...</td>\n      <td>NaN</td>\n      <td>mpfi</td>\n      <td>3.62</td>\n      <td>3.40</td>\n      <td>NaN</td>\n      <td>68</td>\n      <td>5500</td>\n      <td>NaN</td>\n      <td>NaN</td>\n      <td>?</td>\n    </tr>\n    <tr>\n      <th>freq</th>\n      <td>NaN</td>\n      <td>41</td>\n      <td>32</td>\n      <td>185</td>\n      <td>168</td>\n      <td>114</td>\n      <td>96</td>\n      <td>120</td>\n      <td>202</td>\n      <td>NaN</td>\n      <td>...</td>\n      <td>NaN</td>\n      <td>94</td>\n      <td>23</td>\n      <td>20</td>\n      <td>NaN</td>\n      <td>19</td>\n      <td>37</td>\n      <td>NaN</td>\n      <td>NaN</td>\n      <td>4</td>\n    </tr>\n    <tr>\n      <th>mean</th>\n      <td>0.834146</td>\n      <td>NaN</td>\n      <td>NaN</td>\n      <td>NaN</td>\n      <td>NaN</td>\n      <td>NaN</td>\n      <td>NaN</td>\n      <td>NaN</td>\n      <td>NaN</td>\n      <td>98.756585</td>\n      <td>...</td>\n      <td>126.907317</td>\n      <td>NaN</td>\n      <td>NaN</td>\n      <td>NaN</td>\n      <td>10.142537</td>\n      <td>NaN</td>\n      <td>NaN</td>\n      <td>25.219512</td>\n      <td>30.751220</td>\n      <td>NaN</td>\n    </tr>\n    <tr>\n      <th>std</th>\n      <td>1.245307</td>\n      <td>NaN</td>\n      <td>NaN</td>\n      <td>NaN</td>\n      <td>NaN</td>\n      <td>NaN</td>\n      <td>NaN</td>\n      <td>NaN</td>\n      <td>NaN</td>\n      <td>6.021776</td>\n      <td>...</td>\n      <td>41.642693</td>\n      <td>NaN</td>\n      <td>NaN</td>\n      <td>NaN</td>\n      <td>3.972040</td>\n      <td>NaN</td>\n      <td>NaN</td>\n      <td>6.542142</td>\n      <td>6.886443</td>\n      <td>NaN</td>\n    </tr>\n    <tr>\n      <th>min</th>\n      <td>-2.000000</td>\n      <td>NaN</td>\n      <td>NaN</td>\n      <td>NaN</td>\n      <td>NaN</td>\n      <td>NaN</td>\n      <td>NaN</td>\n      <td>NaN</td>\n      <td>NaN</td>\n      <td>86.600000</td>\n      <td>...</td>\n      <td>61.000000</td>\n      <td>NaN</td>\n      <td>NaN</td>\n      <td>NaN</td>\n      <td>7.000000</td>\n      <td>NaN</td>\n      <td>NaN</td>\n      <td>13.000000</td>\n      <td>16.000000</td>\n      <td>NaN</td>\n    </tr>\n    <tr>\n      <th>25%</th>\n      <td>0.000000</td>\n      <td>NaN</td>\n      <td>NaN</td>\n      <td>NaN</td>\n      <td>NaN</td>\n      <td>NaN</td>\n      <td>NaN</td>\n      <td>NaN</td>\n      <td>NaN</td>\n      <td>94.500000</td>\n      <td>...</td>\n      <td>97.000000</td>\n      <td>NaN</td>\n      <td>NaN</td>\n      <td>NaN</td>\n      <td>8.600000</td>\n      <td>NaN</td>\n      <td>NaN</td>\n      <td>19.000000</td>\n      <td>25.000000</td>\n      <td>NaN</td>\n    </tr>\n    <tr>\n      <th>50%</th>\n      <td>1.000000</td>\n      <td>NaN</td>\n      <td>NaN</td>\n      <td>NaN</td>\n      <td>NaN</td>\n      <td>NaN</td>\n      <td>NaN</td>\n      <td>NaN</td>\n      <td>NaN</td>\n      <td>97.000000</td>\n      <td>...</td>\n      <td>120.000000</td>\n      <td>NaN</td>\n      <td>NaN</td>\n      <td>NaN</td>\n      <td>9.000000</td>\n      <td>NaN</td>\n      <td>NaN</td>\n      <td>24.000000</td>\n      <td>30.000000</td>\n      <td>NaN</td>\n    </tr>\n    <tr>\n      <th>75%</th>\n      <td>2.000000</td>\n      <td>NaN</td>\n      <td>NaN</td>\n      <td>NaN</td>\n      <td>NaN</td>\n      <td>NaN</td>\n      <td>NaN</td>\n      <td>NaN</td>\n      <td>NaN</td>\n      <td>102.400000</td>\n      <td>...</td>\n      <td>141.000000</td>\n      <td>NaN</td>\n      <td>NaN</td>\n      <td>NaN</td>\n      <td>9.400000</td>\n      <td>NaN</td>\n      <td>NaN</td>\n      <td>30.000000</td>\n      <td>34.000000</td>\n      <td>NaN</td>\n    </tr>\n    <tr>\n      <th>max</th>\n      <td>3.000000</td>\n      <td>NaN</td>\n      <td>NaN</td>\n      <td>NaN</td>\n      <td>NaN</td>\n      <td>NaN</td>\n      <td>NaN</td>\n      <td>NaN</td>\n      <td>NaN</td>\n      <td>120.900000</td>\n      <td>...</td>\n      <td>326.000000</td>\n      <td>NaN</td>\n      <td>NaN</td>\n      <td>NaN</td>\n      <td>23.000000</td>\n      <td>NaN</td>\n      <td>NaN</td>\n      <td>49.000000</td>\n      <td>54.000000</td>\n      <td>NaN</td>\n    </tr>\n  </tbody>\n</table>\n<p>11 rows × 26 columns</p>\n</div>"
     },
     "metadata": {},
     "execution_count": 14
    }
   ],
   "source": [
    "df.describe(include='all')"
   ]
  },
  {
   "cell_type": "markdown",
   "metadata": {},
   "source": [
    "Aunque los datos numericos se pierden al analizar string hay elementos intersantes. \n",
    "* Cuenta el numero de elementos totales\n",
    "* Cuenta el total de elementos unicos\n",
    "* Muestra el elemento que mas veces se repite\n",
    "* EL total de veces que se repite "
   ]
  },
  {
   "cell_type": "markdown",
   "metadata": {},
   "source": [
    "el metodo _df.info()_ muestra datos conscisos de nuestro dataset"
   ]
  },
  {
   "cell_type": "code",
   "execution_count": 15,
   "metadata": {},
   "outputs": [
    {
     "output_type": "stream",
     "name": "stdout",
     "text": "<class 'pandas.core.frame.DataFrame'>\nRangeIndex: 205 entries, 0 to 204\nData columns (total 26 columns):\n #   Column              Non-Null Count  Dtype  \n---  ------              --------------  -----  \n 0   symboling           205 non-null    int64  \n 1   normalized-losses   205 non-null    object \n 2   make                205 non-null    object \n 3   fuel-type           205 non-null    object \n 4   aspiration          205 non-null    object \n 5   num-of-doors        205 non-null    object \n 6   body-style          205 non-null    object \n 7   drive-wheels        205 non-null    object \n 8   engine-location     205 non-null    object \n 9   wheel-base          205 non-null    float64\n 10  length              205 non-null    float64\n 11  with                205 non-null    float64\n 12  height              205 non-null    float64\n 13  curb-weight         205 non-null    int64  \n 14  engine-type         205 non-null    object \n 15  num-of-cylinders    205 non-null    object \n 16  engine-size         205 non-null    int64  \n 17  fuel-system         205 non-null    object \n 18  bore                205 non-null    object \n 19  stroke              205 non-null    object \n 20  compression-ration  205 non-null    float64\n 21  horsepower          205 non-null    object \n 22  peak-rpm            205 non-null    object \n 23  city-mpg            205 non-null    int64  \n 24  higway-mpg          205 non-null    int64  \n 25  price               205 non-null    object \ndtypes: float64(5), int64(5), object(16)\nmemory usage: 41.8+ KB\n"
    }
   ],
   "source": [
    "df.info()"
   ]
  },
  {
   "cell_type": "code",
   "execution_count": null,
   "metadata": {},
   "outputs": [],
   "source": []
  }
 ]
}